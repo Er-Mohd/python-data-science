{
 "cells": [
  {
   "cell_type": "code",
   "execution_count": 1,
   "metadata": {},
   "outputs": [],
   "source": [
    "emp =['Amar','deep','finance',2300,10000,30000,31,True,False,'Acme']"
   ]
  },
  {
   "cell_type": "code",
   "execution_count": 2,
   "metadata": {},
   "outputs": [],
   "source": [
    "emp_dict = {\n",
    "    'fname':'Amar',\n",
    "    'lname':'deep',\n",
    "    'dept':'finance',\n",
    "    'age':'31',\n",
    "    'salary':'10000',\n",
    "    'bonus':'30000',\n",
    "    'is_manager':'True',\n",
    "    'is_executive':'False',\n",
    "    'company':'acme'}"
   ]
  },
  {
   "cell_type": "code",
   "execution_count": 3,
   "metadata": {},
   "outputs": [
    {
     "name": "stdout",
     "output_type": "stream",
     "text": [
      "{'fname': 'Amar', 'lname': 'deep', 'dept': 'finance', 'age': '31', 'salary': '10000', 'bonus': '30000', 'is_manager': 'True', 'is_executive': 'False', 'company': 'acme'}\n"
     ]
    }
   ],
   "source": [
    "print(emp_dict)"
   ]
  },
  {
   "cell_type": "code",
   "execution_count": 4,
   "metadata": {},
   "outputs": [],
   "source": [
    "weather_data ={\n",
    "    'data':'2019-01-01',\n",
    "    'temp':32,\n",
    "    'details':{\n",
    "        'humidity':80,\n",
    "        'wind':10,\n",
    "        'pressuer':30,\n",
    "        'aqi':120\n",
    "    },\n",
    "    'city':'lucknow',\n",
    "    'type':'sunshine',\n",
    "    'icon':'👀👀'\n",
    "}"
   ]
  },
  {
   "cell_type": "code",
   "execution_count": 5,
   "metadata": {},
   "outputs": [
    {
     "data": {
      "text/plain": [
       "dict_keys(['data', 'temp', 'details', 'city', 'type', 'icon'])"
      ]
     },
     "execution_count": 5,
     "metadata": {},
     "output_type": "execute_result"
    }
   ],
   "source": [
    "weather_data.keys()"
   ]
  },
  {
   "cell_type": "code",
   "execution_count": 6,
   "metadata": {},
   "outputs": [
    {
     "data": {
      "text/plain": [
       "dict_values(['2019-01-01', 32, {'humidity': 80, 'wind': 10, 'pressuer': 30, 'aqi': 120}, 'lucknow', 'sunshine', '👀👀'])"
      ]
     },
     "execution_count": 6,
     "metadata": {},
     "output_type": "execute_result"
    }
   ],
   "source": [
    "weather_data.values()"
   ]
  },
  {
   "cell_type": "code",
   "execution_count": 7,
   "metadata": {},
   "outputs": [
    {
     "data": {
      "text/plain": [
       "dict_keys(['fname', 'lname', 'dept', 'age', 'salary', 'bonus', 'is_manager', 'is_executive', 'company'])"
      ]
     },
     "execution_count": 7,
     "metadata": {},
     "output_type": "execute_result"
    }
   ],
   "source": [
    "emp_dict.keys()"
   ]
  },
  {
   "cell_type": "code",
   "execution_count": 8,
   "metadata": {},
   "outputs": [
    {
     "data": {
      "text/plain": [
       "32"
      ]
     },
     "execution_count": 8,
     "metadata": {},
     "output_type": "execute_result"
    }
   ],
   "source": [
    "weather_data['temp']"
   ]
  },
  {
   "cell_type": "code",
   "execution_count": 9,
   "metadata": {},
   "outputs": [
    {
     "data": {
      "text/plain": [
       "'lucknow'"
      ]
     },
     "execution_count": 9,
     "metadata": {},
     "output_type": "execute_result"
    }
   ],
   "source": [
    "weather_data['city']"
   ]
  },
  {
   "cell_type": "code",
   "execution_count": 10,
   "metadata": {},
   "outputs": [
    {
     "data": {
      "text/plain": [
       "32"
      ]
     },
     "execution_count": 10,
     "metadata": {},
     "output_type": "execute_result"
    }
   ],
   "source": [
    "weather_data.get('temp')"
   ]
  },
  {
   "cell_type": "code",
   "execution_count": 11,
   "metadata": {},
   "outputs": [
    {
     "data": {
      "text/plain": [
       "'lucknow'"
      ]
     },
     "execution_count": 11,
     "metadata": {},
     "output_type": "execute_result"
    }
   ],
   "source": [
    "weather_data.get('city','not found')"
   ]
  },
  {
   "cell_type": "code",
   "execution_count": 12,
   "metadata": {},
   "outputs": [
    {
     "data": {
      "text/plain": [
       "'not found'"
      ]
     },
     "execution_count": 12,
     "metadata": {},
     "output_type": "execute_result"
    }
   ],
   "source": [
    "weather_data.get('location','not found')"
   ]
  },
  {
   "cell_type": "code",
   "execution_count": 13,
   "metadata": {},
   "outputs": [
    {
     "name": "stdout",
     "output_type": "stream",
     "text": [
      "fname => Amar\n",
      "lname => deep\n",
      "dept => finance\n",
      "age => 31\n",
      "salary => 10000\n",
      "bonus => 30000\n",
      "is_manager => True\n",
      "is_executive => False\n",
      "company => acme\n"
     ]
    }
   ],
   "source": [
    "# looping over a dictionary\n",
    "for k in emp_dict:\n",
    "    print(k,'=>',emp_dict[k])"
   ]
  },
  {
   "cell_type": "code",
   "execution_count": 14,
   "metadata": {},
   "outputs": [
    {
     "name": "stdout",
     "output_type": "stream",
     "text": [
      "fname => Amar\n",
      "lname => deep\n",
      "dept => finance\n",
      "age => 31\n",
      "salary => 10000\n",
      "bonus => 30000\n",
      "is_manager => True\n",
      "is_executive => False\n",
      "company => acme\n"
     ]
    }
   ],
   "source": [
    "#looping over a dictionary using item()\n",
    "for k,v in emp_dict.items():\n",
    "    print(k,'=>',v)"
   ]
  },
  {
   "cell_type": "code",
   "execution_count": 15,
   "metadata": {},
   "outputs": [],
   "source": [
    "# updating an entry in dictionary\n",
    "weather_data['temp'] =35"
   ]
  },
  {
   "cell_type": "code",
   "execution_count": 16,
   "metadata": {},
   "outputs": [
    {
     "data": {
      "text/plain": [
       "{'data': '2019-01-01',\n",
       " 'temp': 35,\n",
       " 'details': {'humidity': 80, 'wind': 10, 'pressuer': 30, 'aqi': 120},\n",
       " 'city': 'lucknow',\n",
       " 'type': 'sunshine',\n",
       " 'icon': '👀👀'}"
      ]
     },
     "execution_count": 16,
     "metadata": {},
     "output_type": "execute_result"
    }
   ],
   "source": [
    "weather_data"
   ]
  },
  {
   "cell_type": "code",
   "execution_count": 18,
   "metadata": {},
   "outputs": [
    {
     "name": "stdout",
     "output_type": "stream",
     "text": [
      "{'fname': 'Amar', 'lname': 'deep', 'dept': 'finance', 'age': '31', 'salary': '10000', 'bonus': '30000', 'is_manager': 'True', 'is_executive': 'False', 'company': 'acme', 'desingation': 'Asst A'}\n"
     ]
    }
   ],
   "source": [
    "# adding data\n",
    "emp_dict['desingation'] = 'Asst A'\n",
    "print(emp_dict)"
   ]
  },
  {
   "cell_type": "code",
   "execution_count": 19,
   "metadata": {},
   "outputs": [
    {
     "name": "stdout",
     "output_type": "stream",
     "text": [
      "{'fname': 'Amar', 'lname': 'deep', 'dept': 'finance', 'age': '31', 'salary': 30000, 'bonus': '30000', 'is_manager': 'True', 'is_executive': 'False', 'company': 'acme', 'desingation': 'Section Manager'}\n"
     ]
    }
   ],
   "source": [
    "emp_dict['desingation'] ='Section Manager'\n",
    "emp_dict['salary'] = 30000\n",
    "print(emp_dict)"
   ]
  },
  {
   "cell_type": "code",
   "execution_count": 20,
   "metadata": {},
   "outputs": [],
   "source": [
    "if 'is_executive' in emp_dict:\n",
    "    emp_dict.pop('is_executive') #remove an entry"
   ]
  },
  {
   "cell_type": "code",
   "execution_count": 21,
   "metadata": {},
   "outputs": [
    {
     "data": {
      "text/plain": [
       "{'fname': 'Amar',\n",
       " 'lname': 'deep',\n",
       " 'dept': 'finance',\n",
       " 'age': '31',\n",
       " 'salary': 30000,\n",
       " 'bonus': '30000',\n",
       " 'is_manager': 'True',\n",
       " 'company': 'acme',\n",
       " 'desingation': 'Section Manager'}"
      ]
     },
     "execution_count": 21,
     "metadata": {},
     "output_type": "execute_result"
    }
   ],
   "source": [
    "emp_dict"
   ]
  },
  {
   "cell_type": "code",
   "execution_count": 24,
   "metadata": {},
   "outputs": [],
   "source": [
    "reports = {\n",
    "    '001': {\n",
    "        'name': 'Amar',\n",
    "        'subject':{'English': 80,'Maths': 90,'Science': 95}\n",
    "    },\n",
    "    '002':{\n",
    "        'name': 'Vijay',\n",
    "        'Subject':{ 'English': 70, 'Maths':60,'Science': 85}\n",
    "    },\n",
    "    '003':{\n",
    "        'name': 'raj',\n",
    "        'Subject':{ 'English': 77, 'Maths':68,'Science': 86}\n",
    "},\n",
    "    }\n"
   ]
  },
  {
   "cell_type": "code",
   "execution_count": 35,
   "metadata": {},
   "outputs": [
    {
     "name": "stdout",
     "output_type": "stream",
     "text": [
      "roll\n",
      "name\n",
      "name Amar\n",
      "subject\n",
      "English 80\n",
      "Maths 90\n",
      "Science 95\n",
      "_ __ __ __ __ __ __ __ __ __ _\n",
      "roll\n",
      "name\n",
      "name Vijay\n",
      "Subject\n",
      "English 70\n",
      "Maths 60\n",
      "Science 85\n",
      "_ __ __ __ __ __ __ __ __ __ _\n",
      "roll\n",
      "name\n",
      "name raj\n",
      "Subject\n",
      "English 77\n",
      "Maths 68\n",
      "Science 86\n",
      "_ __ __ __ __ __ __ __ __ __ _\n"
     ]
    }
   ],
   "source": [
    "for roll,data in reports.items():\n",
    "    print('roll')\n",
    "    for key,val in data.items():\n",
    "        print(key)\n",
    "        if isinstance(val ,dict):\n",
    "            for sub,marks in val.items():\n",
    "                print(sub,marks)\n",
    "        else:\n",
    "            print(key,val)\n",
    "    print('_ _'*10)               "
   ]
  },
  {
   "cell_type": "code",
   "execution_count": null,
   "metadata": {},
   "outputs": [],
   "source": [
    "for roll,data in reports.items():\n",
    "    print('roll')\n",
    "    for key,val in data.items():\n",
    "        if isinstance(val ,dict):\n",
    "            print(key)\n",
    "            total = 0\n",
    "            percentage = 0\n",
    "            for sub,marks in val.items():\n",
    "                print(sub,marks)\n",
    "                \n",
    "        else:\n",
    "            print(key,val)\n",
    "print('_ _'*10)               "
   ]
  },
  {
   "cell_type": "code",
   "execution_count": 36,
   "metadata": {},
   "outputs": [
    {
     "name": "stdout",
     "output_type": "stream",
     "text": [
      "print(\"hello world\")\n"
     ]
    }
   ],
   "source": [
    "f = open('hello.py')\n",
    "print(f.read())"
   ]
  },
  {
   "cell_type": "code",
   "execution_count": 37,
   "metadata": {},
   "outputs": [
    {
     "name": "stdout",
     "output_type": "stream",
     "text": [
      "10 chracters\n"
     ]
    }
   ],
   "source": [
    "f = open(r'C:\\Users\\Mohd Anas\\Downloads\\Document.txt')\n",
    "content = f.read()\n",
    "print(f'{len(content)} chracters')"
   ]
  },
  {
   "cell_type": "code",
   "execution_count": 38,
   "metadata": {},
   "outputs": [],
   "source": [
    "data='hi everyone, this is a sample file'\n",
    "with open('mydata.txt', 'w') as file:\n",
    "    file.write(data)"
   ]
  },
  {
   "cell_type": "code",
   "execution_count": 40,
   "metadata": {},
   "outputs": [],
   "source": [
    "data='\\nthis is the new data is going to be written'\n",
    "with open('mydata.txt', 'a') as file:\n",
    "    file.write(data)"
   ]
  },
  {
   "cell_type": "code",
   "execution_count": null,
   "metadata": {},
   "outputs": [],
   "source": [
    "file ='bio.txt'\n",
    "content = ''\n",
    "\n",
    "while True:\n",
    "    line = input('Enter a line (or q to quit):')\n",
    "    if line =='q':\n",
    "        break\n",
    "    content += line + '\\n'\n",
    "\n",
    "with open(file,'w') as f:\n",
    "    f.write(content)"
   ]
  }
 ],
 "metadata": {
  "kernelspec": {
   "display_name": "Python 3.9.12 ('base')",
   "language": "python",
   "name": "python3"
  },
  "language_info": {
   "codemirror_mode": {
    "name": "ipython",
    "version": 3
   },
   "file_extension": ".py",
   "mimetype": "text/x-python",
   "name": "python",
   "nbconvert_exporter": "python",
   "pygments_lexer": "ipython3",
   "version": "3.9.12"
  },
  "orig_nbformat": 4,
  "vscode": {
   "interpreter": {
    "hash": "c28b3cece02bc02c12fa5766a988d4443922620539affbc7b46a193a80d0f256"
   }
  }
 },
 "nbformat": 4,
 "nbformat_minor": 2
}
