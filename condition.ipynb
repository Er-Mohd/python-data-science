{
 "cells": [
  {
   "cell_type": "code",
   "execution_count": 1,
   "metadata": {},
   "outputs": [
    {
     "name": "stdout",
     "output_type": "stream",
     "text": [
      "100 is greater than 10\n"
     ]
    }
   ],
   "source": [
    "if 100 > 10:\n",
    "    print(\"100 is greater than 10\")"
   ]
  },
  {
   "cell_type": "code",
   "execution_count": 3,
   "metadata": {},
   "outputs": [],
   "source": [
    "if 5>10:\n",
    "    print(\"5 is greater then 10\")"
   ]
  },
  {
   "cell_type": "code",
   "execution_count": 4,
   "metadata": {},
   "outputs": [],
   "source": [
    "if 5>10:\n",
    "    print(\"5 is greater than 10\")"
   ]
  },
  {
   "cell_type": "code",
   "execution_count": 6,
   "metadata": {},
   "outputs": [
    {
     "name": "stdout",
     "output_type": "stream",
     "text": [
      "this is greater\n",
      "10 is greater then 20\n"
     ]
    }
   ],
   "source": [
    "a=10\n",
    "b=20\n",
    "if a<b:\n",
    "    print(\"this is greater\")\n",
    "    print(f\"{a} is greater then {b}\")"
   ]
  },
  {
   "cell_type": "code",
   "execution_count": 9,
   "metadata": {},
   "outputs": [
    {
     "name": "stdout",
     "output_type": "stream",
     "text": [
      "this is a number\n"
     ]
    }
   ],
   "source": [
    "data=input(\"enter a data:\")\n",
    "if data.isalpha():\n",
    "    print(\"this is a string\")\n",
    "if data.isnumeric():\n",
    "    print(\"this is a number\")\n",
    "if data.isspace():\n",
    "    print(\"this is a space\")"
   ]
  },
  {
   "cell_type": "code",
   "execution_count": null,
   "metadata": {},
   "outputs": [],
   "source": []
  },
  {
   "cell_type": "code",
   "execution_count": 10,
   "metadata": {},
   "outputs": [
    {
     "name": "stdout",
     "output_type": "stream",
     "text": [
      "this is a number\n"
     ]
    }
   ],
   "source": [
    "data=input(\"enter a data:\")\n",
    "if data.isalpha():\n",
    "    print(\"this is a string\")\n",
    "if data.isnumeric():\n",
    "    print(\"this is a number\")\n",
    "if data.isspace():\n",
    "    print(\"this is a space\")"
   ]
  },
  {
   "cell_type": "code",
   "execution_count": 15,
   "metadata": {},
   "outputs": [],
   "source": [
    "data=input(\"enter a data:\")\n",
    "if data.isalpha():\n",
    "    print(\"this is a string\")\n",
    "if data.isnumeric():\n",
    "    print(\"this is a number\")\n",
    "if data.isspace():\n",
    "    print(\"this is a space\")"
   ]
  },
  {
   "cell_type": "code",
   "execution_count": 14,
   "metadata": {},
   "outputs": [
    {
     "name": "stdout",
     "output_type": "stream",
     "text": [
      "its cool\n"
     ]
    }
   ],
   "source": [
    "tem = 9\n",
    "if tem>25:\n",
    "    print(\"its hot\")\n",
    "else:\n",
    "    print(\"its cool\")"
   ]
  },
  {
   "cell_type": "code",
   "execution_count": 16,
   "metadata": {},
   "outputs": [
    {
     "name": "stdout",
     "output_type": "stream",
     "text": [
      "An apple a day keeps the doctor away\n",
      "not found in the Database\n"
     ]
    }
   ],
   "source": [
    "fruit = input(\"what fruit do you like\")\n",
    "if fruit==\"apple\":\n",
    "    print(\"An apple a day keeps the doctor away\")\n",
    "if fruit==\"mango\":\n",
    "    print(\"mango is the king of fruit\")\n",
    "elif fruit==\"banana\":\n",
    "    print(\"banana is a good source of potassiam\")\n",
    "elif fruit==\"orange\":\n",
    "    print(\"orange is a good source of vitamin C\")\n",
    "else:\n",
    "    print(\"not found in the Database\")"
   ]
  },
  {
   "cell_type": "code",
   "execution_count": 20,
   "metadata": {},
   "outputs": [
    {
     "ename": "NameError",
     "evalue": "name 'username' is not defined",
     "output_type": "error",
     "traceback": [
      "\u001b[1;31m---------------------------------------------------------------------------\u001b[0m",
      "\u001b[1;31mNameError\u001b[0m                                 Traceback (most recent call last)",
      "\u001b[1;32mc:\\Users\\Mohd Anas\\py ds\\condition.ipynb Cell 11\u001b[0m in \u001b[0;36m<cell line: 2>\u001b[1;34m()\u001b[0m\n\u001b[0;32m      <a href='vscode-notebook-cell:/c%3A/Users/Mohd%20Anas/py%20ds/condition.ipynb#X24sZmlsZQ%3D%3D?line=0'>1</a>\u001b[0m \u001b[39m# this can alsa be written as\u001b[39;00m\n\u001b[1;32m----> <a href='vscode-notebook-cell:/c%3A/Users/Mohd%20Anas/py%20ds/condition.ipynb#X24sZmlsZQ%3D%3D?line=1'>2</a>\u001b[0m \u001b[39mif\u001b[39;00m username \u001b[39m==\u001b[39m\u001b[39m\"\u001b[39m\u001b[39msam\u001b[39m\u001b[39m\"\u001b[39m \u001b[39mand\u001b[39;00m password \u001b[39m==\u001b[39m\u001b[39m\"\u001b[39m\u001b[39m123\u001b[39m\u001b[39m\"\u001b[39m:\n\u001b[0;32m      <a href='vscode-notebook-cell:/c%3A/Users/Mohd%20Anas/py%20ds/condition.ipynb#X24sZmlsZQ%3D%3D?line=2'>3</a>\u001b[0m     \u001b[39mprint\u001b[39m  (\u001b[39m\"\u001b[39m\u001b[39mwelcome sam\u001b[39m\u001b[39m\"\u001b[39m)\n\u001b[0;32m      <a href='vscode-notebook-cell:/c%3A/Users/Mohd%20Anas/py%20ds/condition.ipynb#X24sZmlsZQ%3D%3D?line=3'>4</a>\u001b[0m \u001b[39melse\u001b[39;00m:\n",
      "\u001b[1;31mNameError\u001b[0m: name 'username' is not defined"
     ]
    }
   ],
   "source": [
    "# this can alsa be written as\n",
    "if username ==\"sam\" and password ==\"123\":\n",
    "    print  (\"welcome sam\")\n",
    "else:\n",
    "    print  (\"wrong username or password\")"
   ]
  },
  {
   "cell_type": "code",
   "execution_count": null,
   "metadata": {},
   "outputs": [],
   "source": []
  }
 ],
 "metadata": {
  "kernelspec": {
   "display_name": "Python 3.9.12 ('base')",
   "language": "python",
   "name": "python3"
  },
  "language_info": {
   "codemirror_mode": {
    "name": "ipython",
    "version": 3
   },
   "file_extension": ".py",
   "mimetype": "text/x-python",
   "name": "python",
   "nbconvert_exporter": "python",
   "pygments_lexer": "ipython3",
   "version": "3.9.12"
  },
  "orig_nbformat": 4,
  "vscode": {
   "interpreter": {
    "hash": "c28b3cece02bc02c12fa5766a988d4443922620539affbc7b46a193a80d0f256"
   }
  }
 },
 "nbformat": 4,
 "nbformat_minor": 2
}
