{
 "cells": [
  {
   "cell_type": "code",
   "execution_count": 1,
   "metadata": {},
   "outputs": [
    {
     "name": "stdout",
     "output_type": "stream",
     "text": [
      "[0, 2, 4, 6, 8, 10, 12, 14, 16, 18, 20, 22, 24, 26, 28, 30, 32, 34, 36, 38, 40, 42, 44, 46, 48, 50, 52, 54, 56, 58, 60, 62, 64, 66, 68, 70, 72, 74, 76, 78, 80, 82, 84, 86, 88, 90, 92, 94, 96, 98, 100]\n"
     ]
    }
   ],
   "source": [
    "a=[]\n",
    "print(list(range(0,101,2)))"
   ]
  },
  {
   "cell_type": "code",
   "execution_count": 2,
   "metadata": {},
   "outputs": [
    {
     "name": "stdout",
     "output_type": "stream",
     "text": [
      "[2, 4, 6, 8, 10, 12, 14, 16, 18, 20, 22, 24, 26, 28, 30, 32, 34, 36, 38, 40, 42, 44, 46, 48, 50, 52, 54, 56, 58, 60, 62, 64, 66, 68, 70, 72, 74, 76, 78, 80, 82, 84, 86, 88, 90, 92, 94, 96, 98, 100]\n"
     ]
    }
   ],
   "source": [
    "evens_v2 =list(range(2,101,2))\n",
    "print(evens_v2)"
   ]
  },
  {
   "cell_type": "code",
   "execution_count": 3,
   "metadata": {},
   "outputs": [
    {
     "name": "stdout",
     "output_type": "stream",
     "text": [
      "[0, 1, 1, 2, 3, 5, 8, 13, 21, 34, 55, 89]\n"
     ]
    }
   ],
   "source": [
    "# fibonacci series\n",
    "fib =[0,1]\n",
    "for i in range(10):\n",
    "    fib.append(fib[-1] + fib[-2])\n",
    "print(fib)\n"
   ]
  },
  {
   "cell_type": "code",
   "execution_count": 9,
   "metadata": {},
   "outputs": [
    {
     "name": "stdout",
     "output_type": "stream",
     "text": [
      "[2, 3, 4, 5, 6, 7, 8, 9, 10]\n",
      "[2, 3, 4, 5, 6, 7, 8, 9, 10]\n",
      "6.0\n",
      "10\n",
      "2\n"
     ]
    }
   ],
   "source": [
    "#wap to create a list of 10 elements and then\n",
    "# print the list\n",
    "#print the sum\n",
    "#print the mean\n",
    "#print the max\n",
    "#print the min\n",
    "\n",
    "x = [2,3,4,5,6,7,8,9,10]\n",
    "print(x)\n",
    "s = sum(x)\n",
    "print(x)\n",
    "m =sum(x)/len(x)\n",
    "print(m)\n",
    "print(max(x))\n",
    "print(min(x))"
   ]
  },
  {
   "cell_type": "code",
   "execution_count": 10,
   "metadata": {},
   "outputs": [
    {
     "name": "stdout",
     "output_type": "stream",
     "text": [
      "[4, 6, 8, 5, 7]\n"
     ]
    }
   ],
   "source": [
    "# wap to add list element wise and store result in 3rd list[1,2,3] + [5,4,6]=[5,7,9]\n",
    "x =[1,2,3,4,5]\n",
    "y =[3,4,5,1,2]\n",
    "z =[]\n",
    "for i in range(5):\n",
    "    z.append(x[i] + y[i])\n",
    "print(z)"
   ]
  },
  {
   "cell_type": "code",
   "execution_count": 11,
   "metadata": {},
   "outputs": [
    {
     "name": "stdout",
     "output_type": "stream",
     "text": [
      "[4, 6, 8, 5, 7]\n"
     ]
    }
   ],
   "source": [
    "z=[]\n",
    "for i,j in zip(x,y):\n",
    "    z.append(i+j)\n",
    "print(z)"
   ]
  },
  {
   "cell_type": "code",
   "execution_count": 13,
   "metadata": {},
   "outputs": [
    {
     "name": "stdout",
     "output_type": "stream",
     "text": [
      "[1, 2, 3, 4, 5, 6]\n",
      "[]\n"
     ]
    }
   ],
   "source": [
    "# wap tp create a new list from a existing list,where each element is increased by power of 3\n",
    "#[1,2,3]->[1,8,27]\n",
    "x =[1,2,3,4,5,6]\n",
    "y =[]\n",
    "for i in x:\n",
    "    z.append(i**3)\n",
    "print(x)\n",
    "print(y)"
   ]
  },
  {
   "cell_type": "code",
   "execution_count": 15,
   "metadata": {},
   "outputs": [
    {
     "name": "stdout",
     "output_type": "stream",
     "text": [
      "[2, 3, 5, 1, 2, 5, 5, 2, 3, 5, 1]\n",
      "[2, 2, 2]\n"
     ]
    }
   ],
   "source": [
    "x = [2,3,5,1,2,5,5,2,3,5,1]\n",
    "xeven =[]\n",
    "for i in x:\n",
    "    if i % 2 == 0:\n",
    "        xeven.append(i)\n",
    "print(x)\n",
    "print(xeven)"
   ]
  },
  {
   "cell_type": "code",
   "execution_count": 16,
   "metadata": {},
   "outputs": [
    {
     "name": "stdout",
     "output_type": "stream",
     "text": [
      "[35, 70, 105, 140, 175, 210, 245, 280, 315, 350, 385, 420, 455, 490, 525, 560, 595, 630, 665, 700, 735, 770, 805, 840, 875, 910, 945, 980, 1015, 1050, 1085, 1120, 1155, 1190, 1225, 1260, 1295, 1330, 1365, 1400, 1435, 1470, 1505, 1540, 1575, 1610, 1645, 1680, 1715, 1750, 1785]\n"
     ]
    }
   ],
   "source": [
    "fiveoseven =[]\n",
    "num = 1\n",
    "while True:\n",
    "    if num % 5 == 0 and num % 7 == 0:\n",
    "        fiveoseven.append(num)\n",
    "    if len(fiveoseven) > 50:\n",
    "        break\n",
    "    num +=1\n",
    "print(fiveoseven)"
   ]
  },
  {
   "cell_type": "code",
   "execution_count": null,
   "metadata": {},
   "outputs": [],
   "source": [
    "#wap to generate a list of acronyms from a list of word\n",
    "#['Python POrogramming','Artificial intelligence','Machine Learning]->['pp','AI','ML']\n",
    "name =['Python','Artificial Intelligence']"
   ]
  }
 ],
 "metadata": {
  "kernelspec": {
   "display_name": "Python 3.9.12 ('base')",
   "language": "python",
   "name": "python3"
  },
  "language_info": {
   "codemirror_mode": {
    "name": "ipython",
    "version": 3
   },
   "file_extension": ".py",
   "mimetype": "text/x-python",
   "name": "python",
   "nbconvert_exporter": "python",
   "pygments_lexer": "ipython3",
   "version": "3.9.12"
  },
  "orig_nbformat": 4,
  "vscode": {
   "interpreter": {
    "hash": "c28b3cece02bc02c12fa5766a988d4443922620539affbc7b46a193a80d0f256"
   }
  }
 },
 "nbformat": 4,
 "nbformat_minor": 2
}
